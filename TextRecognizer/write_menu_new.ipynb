{
 "cells": [
  {
   "cell_type": "code",
   "execution_count": 1,
   "metadata": {},
   "outputs": [],
   "source": [
    "import pandas as pd\n",
    "import os\n",
    "import re\n",
    "import numpy as np\n",
    "from statistics import stdev\n",
    "import math"
   ]
  },
  {
   "cell_type": "code",
   "execution_count": 2,
   "metadata": {},
   "outputs": [],
   "source": [
    "def find_cord(image_name,idx):\n",
    "    return re.findall(r'\\d+\\.\\d+',image_name)[idx]\n",
    "\n",
    "def getVerDisStd(df,rm_outlier=True):\n",
    "    ''' Get standard deviation of consecutive vertical difference '''\n",
    "    df = df[df['prob']>=0.45]\n",
    "    df.reset_index(drop=True,inplace=True)\n",
    "    df['pred']=df['pred'].str.strip()\n",
    "    df['h_level'] = (df['new_3y']+df['new_4y'])/2\n",
    "    \n",
    "    # Series of difference between the consecutive values        \n",
    "    gaps = [y - x for x, y in zip(df['h_level'][:-1], df['h_level'][1:])]\n",
    "    std = stdev(gaps)\n",
    "    if rm_outlier:\n",
    "        pstl_90 = np.quantile(gaps,0.9)\n",
    "        gaps_90pstl = [i for i in gaps if i <90]\n",
    "        std = stdev(gaps_90pstl)\n",
    "\n",
    "    return std,df\n",
    "\n",
    "def write_menu(df,file_name):\n",
    "    \n",
    "    std,df = getVerDisStd(df)\n",
    "    \n",
    "    ''' Write menu '''\n",
    "    list_line = [[df.loc[0,'new_4x']]]\n",
    "    counter=1\n",
    "    for x in df['h_level'][1:]:\n",
    "        # if the gap from the current item to the previous is more than 1 SD\n",
    "        # Note: the previous item is the last item in the last list\n",
    "        # Note: modify '> 0.6' to adjust threshold for separating lines\n",
    "        if (x-df.loc[counter-1,'h_level']) / std > 0.6:\n",
    "            list_line.append([])\n",
    "        list_line[-1].append(df.loc[counter,'new_4x'])\n",
    "        counter+=1\n",
    "    \n",
    "    menu_name=file_name.split('.')[0][:-12]+'_new.txt'\n",
    "    menu = open('../data/output/'+menu_name,\"w\") \n",
    "    # Decode sentence and write it to menu file\n",
    "    word_count=0\n",
    "    for line in list_line:\n",
    "        # sort words with x coordinate of vertex 4 \n",
    "        line.sort()\n",
    "        line_in_preds=[]\n",
    "        len_sentence = len(line)\n",
    "\n",
    "        # decode menu content from x coordinate of vertex 4 \n",
    "        for word in line:\n",
    "            df_sub_conf = df.loc[word_count:word_count+len_sentence]\n",
    "            df_sub_conf[df_sub_conf['new_4x']==word]['pred'].values[0]\n",
    "            line_in_preds.append(df_sub_conf[df_sub_conf['new_4x']==word]['pred'].values[0])\n",
    "\n",
    "        # update counter using length of sentence\n",
    "        word_count+=len_sentence\n",
    "\n",
    "        # ordered list in prediction word format to menu file\n",
    "        sentence = ' '.join(line_in_preds)\n",
    "        menu.write(sentence)\n",
    "        menu.write('\\n')\n",
    "    menu.close()"
   ]
  },
  {
   "cell_type": "code",
   "execution_count": 3,
   "metadata": {
    "scrolled": true
   },
   "outputs": [
    {
     "name": "stdout",
     "output_type": "stream",
     "text": [
      "                                           image_name pred    prob\n",
      "40  image_1_110.05312_763.3172_131.2172_763.3172_1...   45  0.2561\n",
      "57  image_1_129.80624_316.05_160.84688_316.05_160....  180  0.1603\n",
      "62  image_1_139.68282_447.26718_169.3125_447.26718...  180  0.2866\n",
      "70  image_1_156.61406_816.9328_179.18906_816.9328_...   50  0.0542\n",
      "76  image_1_177.77812_610.9359_207.4078_610.9359_2...  180  0.2472\n",
      "78  image_1_179.18906_101.5875_213.05156_101.5875_...  250  0.2703\n",
      "79  image_1_182.01094_529.10156_211.64062_529.1015...  190  0.2444\n",
      "83  image_1_204.58594_675.83905_238.44844_675.8390...  240  0.2688\n",
      "                                           image_name  pred    prob\n",
      "57  image_2_124.1625_684.3047_155.20312_684.3047_1...  1000  0.1796\n",
      "64  image_2_136.86093_396.47345_166.49063_396.4734...   150  0.2367\n",
      "70  image_2_153.79219_331.5703_184.83281_331.5703_...  1300  0.1847\n",
      "82  image_2_183.42188_595.41565_207.4078_595.41565...    90  0.2694\n",
      "84  image_2_187.6547_767.55_220.10625_767.55_220.1...  1000  0.1941\n",
      "                                           image_name  pred    prob\n",
      "33  image_3_118.51875_601.0594_149.55937_601.0594_...  1800  0.1919\n",
      "52  image_3_165.07968_437.39062_194.70938_437.3906...   190  0.2245\n",
      "53  image_3_169.3125_256.79062_198.94218_256.79062...   170  0.1825\n",
      "60  image_3_180.6_338.625_210.22969_338.625_210.22...   180  0.2698\n",
      "79  image_3_261.02344_749.2078_292.06406_749.2078_...  1800  0.1479\n"
     ]
    }
   ],
   "source": [
    "pred_list = [os.path.join('../data/output/', f) for f in os.listdir('../data/output/') if os.path.isfile(os.path.join('../data/output/', f)) and f.endswith('pred_result.txt')]\n",
    "for pred_file in pred_list:\n",
    "    raw_log = pd.read_csv(pred_file,sep=\"\\t\", header = None)\n",
    "    result=raw_log.copy()\n",
    "    result.columns=['image_name','pred','prob']\n",
    "    result['vertex1_x']=result.apply(lambda x: find_cord(x.image_name, 0), axis=1).astype(float)\n",
    "    result['vertex1_y']=result.apply(lambda x: find_cord(x.image_name, 1), axis=1).astype(float)\n",
    "    result['vertex2_x']=result.apply(lambda x: find_cord(x.image_name, 2), axis=1).astype(float)\n",
    "    result['vertex2_y']=result.apply(lambda x: find_cord(x.image_name, 3), axis=1).astype(float)\n",
    "    result['vertex3_x']=result.apply(lambda x: find_cord(x.image_name, 4), axis=1).astype(float)\n",
    "    result['vertex3_y']=result.apply(lambda x: find_cord(x.image_name, 5), axis=1).astype(float)\n",
    "    result['vertex4_x']=result.apply(lambda x: find_cord(x.image_name, 6), axis=1).astype(float)\n",
    "    result['vertex4_y']=result.apply(lambda x: find_cord(x.image_name, 7), axis=1).astype(float)\n",
    "    result.reset_index(inplace=True)\n",
    "    result['rotation_x']=result['vertex4_x'][0]\n",
    "    result['rotation_y']=result['vertex4_y'][0]\n",
    "    result['ratio']=(result['vertex4_y']-result['vertex3_y'])/(result['vertex4_x']-result['vertex3_x'])\n",
    "    result['theta']=result['ratio'].apply(lambda x: math.atan(x))\n",
    "    result['theta'].replace(0,np.NaN,inplace=True)\n",
    "    result['correction_theta']=result['theta'].apply(lambda x:-x).mean()\n",
    "    result['cos_theta']=result['correction_theta'].apply(lambda x: math.cos(x))\n",
    "    result['sin_theta']=result['correction_theta'].apply(lambda x: math.sin(x))\n",
    "    result['new_3x']=(result['vertex3_x']-result['rotation_x'])*result['cos_theta']-(result['vertex3_y']-result['rotation_y'])*result['sin_theta']+ result['rotation_x']\n",
    "    result['new_3y']=(result['vertex3_x']-result['rotation_x'])*result['sin_theta']+(result['vertex3_y']-result['rotation_y'])*result['cos_theta']+ result['rotation_y']\n",
    "    result['new_4x']=(result['vertex4_x']-result['rotation_x'])*result['cos_theta']-(result['vertex4_y']-result['rotation_y'])*result['sin_theta']+ result['rotation_x']\n",
    "    result['new_4y']=(result['vertex4_x']-result['rotation_x'])*result['sin_theta']+(result['vertex4_y']-result['rotation_y'])*result['cos_theta']+ result['rotation_y']\n",
    "\n",
    "    result=result[['image_name','vertex1_x','vertex1_y','vertex2_x','vertex2_y','vertex3_x','vertex3_y','vertex4_x','vertex4_y','pred','prob','rotation_x','rotation_y','ratio','theta','correction_theta','cos_theta','sin_theta','new_3x','new_3y','new_4x','new_4y']]\n",
    "    result['pred']=result['pred'].str.strip()\n",
    "    df=result[(result['prob']<0.3) & (result['pred'].str.contains('\\$?\\d+', regex=True))]['pred'].apply(lambda x: x[:-1])\n",
    "    result.update(df)\n",
    "    result['pred']=result['pred'].apply(lambda x:x.split('-')[0])\n",
    "    print(result.loc[(result['prob']<0.3) & (result['pred'].str.contains('\\$?\\d+', regex=True)),['image_name','pred','prob']])\n",
    "    result.sort_values('new_4y',inplace=True)\n",
    "    \n",
    "    # prepare input for write_menu()\n",
    "    file_name=pred_file.split('/')[-1]\n",
    "    df=result.copy()\n",
    "#     write_menu(df,file_name)\n",
    "    "
   ]
  },
  {
   "cell_type": "code",
   "execution_count": 7,
   "metadata": {},
   "outputs": [
    {
     "name": "stderr",
     "output_type": "stream",
     "text": [
      "/opt/conda/lib/python3.7/site-packages/ipykernel_launcher.py:8: SettingWithCopyWarning: \n",
      "A value is trying to be set on a copy of a slice from a DataFrame.\n",
      "Try using .loc[row_indexer,col_indexer] = value instead\n",
      "\n",
      "See the caveats in the documentation: https://pandas.pydata.org/pandas-docs/stable/user_guide/indexing.html#returning-a-view-versus-a-copy\n",
      "  \n",
      "/opt/conda/lib/python3.7/site-packages/ipykernel_launcher.py:9: SettingWithCopyWarning: \n",
      "A value is trying to be set on a copy of a slice from a DataFrame.\n",
      "Try using .loc[row_indexer,col_indexer] = value instead\n",
      "\n",
      "See the caveats in the documentation: https://pandas.pydata.org/pandas-docs/stable/user_guide/indexing.html#returning-a-view-versus-a-copy\n",
      "  if __name__ == '__main__':\n"
     ]
    }
   ],
   "source": [
    "std,df = getVerDisStd(df)\n",
    "    \n",
    "''' Write menu '''\n",
    "list_line = [[df.loc[0,'new_4x']]]\n",
    "counter=1\n",
    "for x in df['h_level'][1:]:\n",
    "        # if the gap from the current item to the previous is more than 1 SD\n",
    "        # Note: the previous item is the last item in the last list\n",
    "        # Note: modify '> 0.6' to adjust threshold for separating lines\n",
    "    if (x-df.loc[counter-1,'h_level']) / std > 0.6:\n",
    "        list_line.append([])\n",
    "    list_line[-1].append(df.loc[counter,'new_4x'])\n",
    "    counter+=1"
   ]
  },
  {
   "cell_type": "code",
   "execution_count": null,
   "metadata": {},
   "outputs": [],
   "source": []
  }
 ],
 "metadata": {
  "environment": {
   "name": "pytorch-gpu.1-6.m59",
   "type": "gcloud",
   "uri": "gcr.io/deeplearning-platform-release/pytorch-gpu.1-6:m59"
  },
  "kernelspec": {
   "display_name": "Python 3",
   "language": "python",
   "name": "python3"
  },
  "language_info": {
   "codemirror_mode": {
    "name": "ipython",
    "version": 3
   },
   "file_extension": ".py",
   "mimetype": "text/x-python",
   "name": "python",
   "nbconvert_exporter": "python",
   "pygments_lexer": "ipython3",
   "version": "3.7.8"
  }
 },
 "nbformat": 4,
 "nbformat_minor": 4
}
