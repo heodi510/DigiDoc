{
 "cells": [
  {
   "cell_type": "code",
   "execution_count": 31,
   "metadata": {},
   "outputs": [],
   "source": [
    "import pandas as pd\n",
    "import os\n",
    "import re\n",
    "import numpy as np\n",
    "from statistics import stdev"
   ]
  },
  {
   "cell_type": "code",
   "execution_count": 32,
   "metadata": {},
   "outputs": [],
   "source": [
    "def find_cord(image_name,idx):\n",
    "    return re.findall(r'\\d+\\.\\d+',image_name)[idx]\n",
    "\n",
    "def getVerDisStd(df,rm_outlier=True):\n",
    "    ''' Get standard deviation of consecutive vertical difference '''\n",
    "    df = df[df['prob']>=0.45]\n",
    "    df.reset_index(drop=True,inplace=True)\n",
    "    df['pred']=df['pred'].str.strip()\n",
    "    df['h_level'] = (df['vertex3_y']+df['vertex4_y'])/2\n",
    "    \n",
    "    # Series of difference between the consecutive values        \n",
    "    gaps = [y - x for x, y in zip(df['h_level'][:-1], df['h_level'][1:])]\n",
    "    std = stdev(gaps)\n",
    "    if rm_outlier:\n",
    "        pstl_90 = np.quantile(gaps,0.9)\n",
    "        gaps_90pstl = [i for i in gaps if i <90]\n",
    "        std = stdev(gaps_90pstl)\n",
    "\n",
    "    return std,df\n",
    "\n",
    "def write_menu(df,file_name):\n",
    "    \n",
    "    std,df = getVerDisStd(df)\n",
    "    \n",
    "    ### 5. use relative coordinate to to write menu ###\n",
    "    \n",
    "    ''' Write menu '''\n",
    "    list_line = [[df.loc[0,'vertex4_x']]]\n",
    "    counter=1\n",
    "    print()\n",
    "    for x in df['h_level'][1:]:\n",
    "        # if the gap from the current item to the previous is more than 1 SD\n",
    "        # Note: the previous item is the last item in the last list\n",
    "        # Note: modify '> 0.6' to adjust threshold for separating lines\n",
    "        if (x-df.loc[counter-1,'h_level']) / std > 0.6:\n",
    "            list_line.append([])\n",
    "        list_line[-1].append(df.loc[counter,'vertex4_x'])\n",
    "        counter+=1\n",
    "    \n",
    "    menu_name=file_name.split('.')[0][:-12]+'.txt'\n",
    "    menu = open('../data/output/'+menu_name,\"w\") \n",
    "    # Decode sentence and write it to menu file\n",
    "    word_count=0\n",
    "    for line in list_line:\n",
    "        # sort words with x coordinate of vertex 4 \n",
    "        line.sort()\n",
    "        line_in_preds=[]\n",
    "        len_sentence = len(line)\n",
    "\n",
    "        # decode menu content from x coordinate of vertex 4 \n",
    "        for word in line:\n",
    "            df_sub_conf = df.loc[word_count:word_count+len_sentence]\n",
    "            df_sub_conf[df_sub_conf['vertex4_x']==word]['pred'].values[0]\n",
    "            line_in_preds.append(df_sub_conf[df_sub_conf['vertex4_x']==word]['pred'].values[0])\n",
    "\n",
    "        # update counter using length of sentence\n",
    "        word_count+=len_sentence\n",
    "\n",
    "        # ordered list in prediction word format to menu file\n",
    "        sentence = ' '.join(line_in_preds)\n",
    "        menu.write(sentence)\n",
    "        menu.write('\\n')\n",
    "    menu.close()"
   ]
  },
  {
   "cell_type": "code",
   "execution_count": 33,
   "metadata": {
    "scrolled": true
   },
   "outputs": [
    {
     "name": "stderr",
     "output_type": "stream",
     "text": [
      "/opt/conda/lib/python3.7/site-packages/ipykernel_launcher.py:8: SettingWithCopyWarning: \n",
      "A value is trying to be set on a copy of a slice from a DataFrame.\n",
      "Try using .loc[row_indexer,col_indexer] = value instead\n",
      "\n",
      "See the caveats in the documentation: https://pandas.pydata.org/pandas-docs/stable/user_guide/indexing.html#returning-a-view-versus-a-copy\n",
      "  \n",
      "/opt/conda/lib/python3.7/site-packages/ipykernel_launcher.py:9: SettingWithCopyWarning: \n",
      "A value is trying to be set on a copy of a slice from a DataFrame.\n",
      "Try using .loc[row_indexer,col_indexer] = value instead\n",
      "\n",
      "See the caveats in the documentation: https://pandas.pydata.org/pandas-docs/stable/user_guide/indexing.html#returning-a-view-versus-a-copy\n",
      "  if __name__ == '__main__':\n"
     ]
    },
    {
     "name": "stdout",
     "output_type": "stream",
     "text": [
      "\n"
     ]
    },
    {
     "name": "stderr",
     "output_type": "stream",
     "text": [
      "/opt/conda/lib/python3.7/site-packages/ipykernel_launcher.py:8: SettingWithCopyWarning: \n",
      "A value is trying to be set on a copy of a slice from a DataFrame.\n",
      "Try using .loc[row_indexer,col_indexer] = value instead\n",
      "\n",
      "See the caveats in the documentation: https://pandas.pydata.org/pandas-docs/stable/user_guide/indexing.html#returning-a-view-versus-a-copy\n",
      "  \n",
      "/opt/conda/lib/python3.7/site-packages/ipykernel_launcher.py:9: SettingWithCopyWarning: \n",
      "A value is trying to be set on a copy of a slice from a DataFrame.\n",
      "Try using .loc[row_indexer,col_indexer] = value instead\n",
      "\n",
      "See the caveats in the documentation: https://pandas.pydata.org/pandas-docs/stable/user_guide/indexing.html#returning-a-view-versus-a-copy\n",
      "  if __name__ == '__main__':\n",
      "/opt/conda/lib/python3.7/site-packages/ipykernel_launcher.py:8: SettingWithCopyWarning: \n",
      "A value is trying to be set on a copy of a slice from a DataFrame.\n",
      "Try using .loc[row_indexer,col_indexer] = value instead\n",
      "\n",
      "See the caveats in the documentation: https://pandas.pydata.org/pandas-docs/stable/user_guide/indexing.html#returning-a-view-versus-a-copy\n",
      "  \n",
      "/opt/conda/lib/python3.7/site-packages/ipykernel_launcher.py:9: SettingWithCopyWarning: \n",
      "A value is trying to be set on a copy of a slice from a DataFrame.\n",
      "Try using .loc[row_indexer,col_indexer] = value instead\n",
      "\n",
      "See the caveats in the documentation: https://pandas.pydata.org/pandas-docs/stable/user_guide/indexing.html#returning-a-view-versus-a-copy\n",
      "  if __name__ == '__main__':\n"
     ]
    },
    {
     "name": "stdout",
     "output_type": "stream",
     "text": [
      "\n",
      "\n",
      "\n",
      "\n"
     ]
    },
    {
     "name": "stderr",
     "output_type": "stream",
     "text": [
      "/opt/conda/lib/python3.7/site-packages/ipykernel_launcher.py:8: SettingWithCopyWarning: \n",
      "A value is trying to be set on a copy of a slice from a DataFrame.\n",
      "Try using .loc[row_indexer,col_indexer] = value instead\n",
      "\n",
      "See the caveats in the documentation: https://pandas.pydata.org/pandas-docs/stable/user_guide/indexing.html#returning-a-view-versus-a-copy\n",
      "  \n",
      "/opt/conda/lib/python3.7/site-packages/ipykernel_launcher.py:9: SettingWithCopyWarning: \n",
      "A value is trying to be set on a copy of a slice from a DataFrame.\n",
      "Try using .loc[row_indexer,col_indexer] = value instead\n",
      "\n",
      "See the caveats in the documentation: https://pandas.pydata.org/pandas-docs/stable/user_guide/indexing.html#returning-a-view-versus-a-copy\n",
      "  if __name__ == '__main__':\n"
     ]
    }
   ],
   "source": [
    "pred_list = [os.path.join('../data/crop_img/', f) for f in os.listdir('../data/crop_img/') if os.path.isfile(os.path.join('../data/crop_img/', f)) and f.endswith('pred_result.txt')]\n",
    "for pred_file in pred_list:\n",
    "    raw_log = pd.read_csv(pred_file,sep=\"\\t\", header = None)\n",
    "    result=raw_log.copy()\n",
    "    result.columns=['image_name','pred','prob']\n",
    "    result['vertex1_x']=result.apply(lambda x: find_cord(x.image_name, 0), axis=1).astype(float)\n",
    "    result['vertex1_y']=result.apply(lambda x: find_cord(x.image_name, 1), axis=1).astype(float)\n",
    "    result['vertex2_x']=result.apply(lambda x: find_cord(x.image_name, 2), axis=1).astype(float)\n",
    "    result['vertex2_y']=result.apply(lambda x: find_cord(x.image_name, 3), axis=1).astype(float)\n",
    "    result['vertex3_x']=result.apply(lambda x: find_cord(x.image_name, 4), axis=1).astype(float)\n",
    "    result['vertex3_y']=result.apply(lambda x: find_cord(x.image_name, 5), axis=1).astype(float)\n",
    "    result['vertex4_x']=result.apply(lambda x: find_cord(x.image_name, 6), axis=1).astype(float)\n",
    "    result['vertex4_y']=result.apply(lambda x: find_cord(x.image_name, 7), axis=1).astype(float)\n",
    "    \n",
    "    ### 1.calculate slop of each word box ###\n",
    "    \n",
    "    result=result[['image_name','vertex1_x','vertex1_y','vertex2_x','vertex2_y','vertex3_x','vertex3_y','vertex4_x','vertex4_y','pred','prob']]\n",
    "    result.sort_values('vertex4_y',inplace=True)\n",
    "    \n",
    "    ### 2.calculate mean of slopes ###\n",
    "    \n",
    "    ### 3.calculate relative coordinate ###\n",
    "\n",
    "    ### 4.write relative coordinate to rsult###\n",
    "    \n",
    "    \n",
    "    # prepare input for write_menu()\n",
    "    file_name=pred_file.split('/')[-1]\n",
    "    df=result.copy()\n",
    "    \n",
    "    \n",
    "    \n",
    "    write_menu(df,file_name)\n",
    "    "
   ]
  },
  {
   "cell_type": "code",
   "execution_count": null,
   "metadata": {},
   "outputs": [],
   "source": []
  }
 ],
 "metadata": {
  "environment": {
   "name": "pytorch-gpu.1-6.m59",
   "type": "gcloud",
   "uri": "gcr.io/deeplearning-platform-release/pytorch-gpu.1-6:m59"
  },
  "kernelspec": {
   "display_name": "Python 3",
   "language": "python",
   "name": "python3"
  },
  "language_info": {
   "codemirror_mode": {
    "name": "ipython",
    "version": 3
   },
   "file_extension": ".py",
   "mimetype": "text/x-python",
   "name": "python",
   "nbconvert_exporter": "python",
   "pygments_lexer": "ipython3",
   "version": "3.7.8"
  }
 },
 "nbformat": 4,
 "nbformat_minor": 4
}
